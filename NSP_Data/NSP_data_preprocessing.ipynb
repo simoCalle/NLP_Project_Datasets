{
 "cells": [
  {
   "cell_type": "markdown",
   "metadata": {
    "id": "pZWcpGuHHMKO"
   },
   "source": [
    "### NSP Datasets"
   ]
  },
  {
   "cell_type": "markdown",
   "metadata": {
    "id": "QdgfZNQQG7oq"
   },
   "source": [
    "#### Setup the Envirnoment"
   ]
  },
  {
   "cell_type": "markdown",
   "metadata": {
    "id": "CkNgxhURy_Zk"
   },
   "source": [
    "Import necessary libaries."
   ]
  },
  {
   "cell_type": "code",
   "execution_count": null,
   "metadata": {
    "id": "d19243d1-9a72-4d70-a0ac-72054e3c4bc3"
   },
   "outputs": [],
   "source": [
    "import pandas as pd\n",
    "import random\n",
    "import seaborn as sns\n",
    "import matplotlib.pyplot as plt\n",
    "from google.colab import files"
   ]
  },
  {
   "cell_type": "markdown",
   "metadata": {
    "id": "CM7ZLtMRzCd8"
   },
   "source": [
    "Download the original dataset from the [repository](https://github.com/SimoneCallegarin/NLP_project/blob/main/Data/EDOS_1M.csv)"
   ]
  },
  {
   "cell_type": "code",
   "execution_count": 35,
   "metadata": {
    "id": "44a6e0d3-bc28-4ea1-8ffb-aae536515a53"
   },
   "outputs": [],
   "source": [
    "csv_path_initial = \"https://media.githubusercontent.com/media/simoCalle/NLP_Project_Datasets/main/EDOS_1M.csv\""
   ]
  },
  {
   "cell_type": "code",
   "execution_count": 36,
   "metadata": {
    "id": "f0a21112-c0f5-42c8-88df-86a518380847"
   },
   "outputs": [],
   "source": [
    "df = pd.read_csv(csv_path_initial)"
   ]
  },
  {
   "cell_type": "markdown",
   "metadata": {
    "id": "u7AbcjrvHCMR",
    "jp-MarkdownHeadingCollapsed": true,
    "tags": []
   },
   "source": [
    "#### Dialogues Analysis"
   ]
  },
  {
   "cell_type": "markdown",
   "metadata": {
    "id": "XLCVLJ2s6KnS"
   },
   "source": [
    "Analyze how dialogues are structured in the dataset in order to perform a better preprocessing phase."
   ]
  },
  {
   "cell_type": "code",
   "execution_count": null,
   "metadata": {
    "colab": {
     "base_uri": "https://localhost:8080/"
    },
    "executionInfo": {
     "elapsed": 458,
     "status": "ok",
     "timestamp": 1683933381035,
     "user": {
      "displayName": "Simone Callegarin",
      "userId": "07493954283969006720"
     },
     "user_tz": -120
    },
    "id": "IFm5Khc4fb9T",
    "outputId": "0b7f9da6-ec03-499b-b2c7-bbdfb59ce728"
   },
   "outputs": [
    {
     "name": "stdout",
     "output_type": "stream",
     "text": [
      "There are no rows with unique dialogue_id values (no dialogues with just 1 utterance).\n"
     ]
    }
   ],
   "source": [
    "# Get the dialogue_id values for rows that occur only once\n",
    "unique_dialogue_ids = df['dialogue_id'].value_counts()[df['dialogue_id'].value_counts() == 1].index.tolist()\n",
    "\n",
    "# Filter the DataFrame to rows with unique dialogue_id values\n",
    "unique_dialogue_id_rows = df[df['dialogue_id'].isin(unique_dialogue_ids)]\n",
    "\n",
    "if len(unique_dialogue_id_rows) > 0:\n",
    "    print(\"There are rows with unique dialogue_id values:\")\n",
    "    print(unique_dialogue_id_rows)\n",
    "else:\n",
    "    print(\"There are no rows with unique dialogue_id values (no dialogues with just 1 utterance).\")"
   ]
  },
  {
   "cell_type": "code",
   "execution_count": null,
   "metadata": {
    "colab": {
     "base_uri": "https://localhost:8080/"
    },
    "executionInfo": {
     "elapsed": 468,
     "status": "ok",
     "timestamp": 1683933381502,
     "user": {
      "displayName": "Simone Callegarin",
      "userId": "07493954283969006720"
     },
     "user_tz": -120
    },
    "id": "3ZgJK2gtzaMt",
    "outputId": "70c5ac63-e248-4b5e-bbfa-ebfff7c12a6b"
   },
   "outputs": [
    {
     "data": {
      "text/plain": [
       "questioning      841556\n",
       "furious          169917\n",
       "acknowledging    138165\n",
       "trusting         134197\n",
       "wishing          108668\n",
       "suggesting       101591\n",
       "anticipating     100433\n",
       "Name: eb+_emot, dtype: int64"
      ]
     },
     "execution_count": 149,
     "metadata": {},
     "output_type": "execute_result"
    }
   ],
   "source": [
    "df['eb+_emot'].value_counts()[:7]"
   ]
  },
  {
   "cell_type": "markdown",
   "metadata": {
    "id": "k1-MFuiS9ysQ"
   },
   "source": [
    "Looking to the emotions distribution we can see that it is not homogeneous, due to a prevalence of *questioning* emotions."
   ]
  },
  {
   "cell_type": "markdown",
   "metadata": {
    "id": "2DKDA4-8Hnr_"
   },
   "source": [
    "Now let's see how many utterances per dialogues there are."
   ]
  },
  {
   "cell_type": "code",
   "execution_count": null,
   "metadata": {
    "id": "e6KYqFmW0wHZ"
   },
   "outputs": [],
   "source": [
    "max_turns = df.groupby('dialogue_id')['turn'].transform('max')"
   ]
  },
  {
   "cell_type": "code",
   "execution_count": null,
   "metadata": {
    "colab": {
     "base_uri": "https://localhost:8080/"
    },
    "executionInfo": {
     "elapsed": 531,
     "status": "ok",
     "timestamp": 1683933382423,
     "user": {
      "displayName": "Simone Callegarin",
      "userId": "07493954283969006720"
     },
     "user_tz": -120
    },
    "id": "HyrSH9356kO1",
    "outputId": "429cedc5-15c9-427f-864e-bd52fa89971c"
   },
   "outputs": [
    {
     "data": {
      "image/png": "[encoded data removed]",
      "text/plain": [
       "<Figure size 640x480 with 1 Axes>"
      ]
     },
     "metadata": {},
     "output_type": "display_data"
    }
   ],
   "source": [
    "sns.countplot(x=max_turns, facecolor='#5799C6', linewidth=1, edgecolor='black')\n",
    "plt.xlabel('Max Turns per Dialogue')\n",
    "plt.ylabel('Count')\n",
    "plt.title('Dialogue Turns')\n",
    "plt.yscale('symlog', linthresh=1000)\n",
    "plt.show()"
   ]
  },
  {
   "cell_type": "code",
   "execution_count": null,
   "metadata": {
    "colab": {
     "base_uri": "https://localhost:8080/"
    },
    "executionInfo": {
     "elapsed": 3,
     "status": "ok",
     "timestamp": 1683933382423,
     "user": {
      "displayName": "Simone Callegarin",
      "userId": "07493954283969006720"
     },
     "user_tz": -120
    },
    "id": "y8HfPh49zarx",
    "outputId": "a3c221cd-44af-4aca-b858-b6195509cd4b"
   },
   "outputs": [
    {
     "data": {
      "text/plain": [
       "2     1112198\n",
       "3      693840\n",
       "4      444064\n",
       "5      281300\n",
       "6      164784\n",
       "7       83636\n",
       "8       34440\n",
       "9       11043\n",
       "10       3160\n",
       "11        726\n",
       "12        156\n",
       "13         65\n",
       "14         14\n",
       "Name: turn, dtype: int64"
      ]
     },
     "execution_count": 152,
     "metadata": {},
     "output_type": "execute_result"
    }
   ],
   "source": [
    "max_turns.value_counts()"
   ]
  },
  {
   "cell_type": "code",
   "execution_count": null,
   "metadata": {},
   "outputs": [],
   "source": []
  },
  {
   "cell_type": "markdown",
   "metadata": {
    "id": "z3JJZf-hHuJj"
   },
   "source": [
    "It appears that the dataset contains mostly short dialogues."
   ]
  },
  {
   "cell_type": "markdown",
   "metadata": {
    "id": "1dmE39_XHboq"
   },
   "source": [
    "#### Preprocessing"
   ]
  },
  {
   "cell_type": "code",
   "execution_count": 37,
   "metadata": {
    "id": "VVob4Lk1BTF5"
   },
   "outputs": [],
   "source": [
    "df_filtered = df"
   ]
  },
  {
   "cell_type": "markdown",
   "metadata": {
    "id": "aH_cv_cfHffn"
   },
   "source": [
    "Remove dialogues that contains 2 or less utterances."
   ]
  },
  {
   "cell_type": "code",
   "execution_count": 38,
   "metadata": {
    "id": "F_LglD7d7tmN"
   },
   "outputs": [],
   "source": [
    "# Get the dialogue_id values where turn > 2\n",
    "dialogues_longer_than_2 = df_filtered.loc[df_filtered['turn'] > 2, 'dialogue_id'].unique()\n",
    "\n",
    "# Filter out the rows where turn <= 2 for each dialogue_id\n",
    "df_filtered = df_filtered[df_filtered['dialogue_id'].isin(dialogues_longer_than_2)]"
   ]
  },
  {
   "cell_type": "markdown",
   "metadata": {
    "id": "VpBDRo-iHqB-"
   },
   "source": [
    "Reduce the number of dialogues containing 'questioning' utterances in order to make the distribution of the emotions more homogeneous."
   ]
  },
  {
   "cell_type": "code",
   "execution_count": 39,
   "metadata": {
    "id": "be22c37a-af23-407a-a711-f3257f508267"
   },
   "outputs": [],
   "source": [
    "# Select the number of dialogues containing questioning utterances to mantain\n",
    "questioning_dialogues_to_mantain = 40000"
   ]
  },
  {
   "cell_type": "code",
   "execution_count": 40,
   "metadata": {
    "id": "coJZazYnqTdY"
   },
   "outputs": [],
   "source": [
    "# Get the dialogue_id values where eb+_emot == 'questioning'\n",
    "questioning_dialogues = df_filtered.loc[df_filtered['eb+_emot'] == 'questioning', 'dialogue_id'].unique()\n",
    "\n",
    "# Get the dialogue_id of the dialogues conatining 'questioning' that has to be removed\n",
    "questioning_dialogues_to_remove = questioning_dialogues[:(len(questioning_dialogues)-questioning_dialogues_to_mantain)]\n",
    "\n",
    "# Filter out the exceeding dialogues containing 'questioning' for each dialogue_id\n",
    "df_filtered = df_filtered[~df_filtered['dialogue_id'].isin(questioning_dialogues_to_remove)]\n",
    "\n",
    "# Reset the index of the filtered DataFrame\n",
    "df_filtered = df_filtered.reset_index(drop=True)"
   ]
  },
  {
   "cell_type": "code",
   "execution_count": 41,
   "metadata": {
    "colab": {
     "base_uri": "https://localhost:8080/"
    },
    "executionInfo": {
     "elapsed": 2,
     "status": "ok",
     "timestamp": 1683933382939,
     "user": {
      "displayName": "Simone Callegarin",
      "userId": "07493954283969006720"
     },
     "user_tz": -120
    },
    "id": "PPfPp9q0zImz",
    "outputId": "72a02de2-e5cb-44d0-a218-664f2113bf4c"
   },
   "outputs": [
    {
     "data": {
      "text/plain": [
       "questioning      67362\n",
       "furious          48993\n",
       "trusting         35149\n",
       "acknowledging    34734\n",
       "wishing          31575\n",
       "suggesting       26730\n",
       "anticipating     25109\n",
       "Name: eb+_emot, dtype: int64"
      ]
     },
     "execution_count": 41,
     "metadata": {},
     "output_type": "execute_result"
    }
   ],
   "source": [
    "df_filtered['eb+_emot'].value_counts()[:7]"
   ]
  },
  {
   "cell_type": "markdown",
   "metadata": {
    "id": "bPdMf7CpKacI"
   },
   "source": [
    "Now the distribution looks more uniform."
   ]
  },
  {
   "cell_type": "markdown",
   "metadata": {
    "id": "luqfZIaSIE1P"
   },
   "source": [
    "#### Split Dialogues into Two Senteces"
   ]
  },
  {
   "cell_type": "code",
   "execution_count": 42,
   "metadata": {
    "id": "u7R1YZT33Q_o",
    "tags": []
   },
   "outputs": [],
   "source": [
    "final_df = df_filtered[['dialogue_id','turn','uttr']]"
   ]
  },
  {
   "cell_type": "markdown",
   "metadata": {
    "id": "P3ywc2yvIRcS"
   },
   "source": [
    "Split each dialogue in two sentences:\n",
    "- the first will contain the first half of the utterances\n",
    "- the second will have the second half of the utterances"
   ]
  },
  {
   "cell_type": "code",
   "execution_count": 43,
   "metadata": {
    "id": "vrY1aRg2DPn_"
   },
   "outputs": [],
   "source": [
    "# Store the number of turns of each dialogue\n",
    "max_turns = final_df.groupby('dialogue_id')['turn'].transform('max')\n",
    "\n",
    "# Create the datasets\n",
    "first_half = final_df.loc[final_df['turn'] <= (max_turns+1)//2, ['dialogue_id','turn', 'uttr']]\n",
    "second_half = final_df.loc[~(final_df.index.isin(first_half.index)), :]"
   ]
  },
  {
   "cell_type": "code",
   "execution_count": 44,
   "metadata": {
    "colab": {
     "base_uri": "https://localhost:8080/"
    },
    "executionInfo": {
     "elapsed": 415,
     "status": "ok",
     "timestamp": 1683933383352,
     "user": {
      "displayName": "Simone Callegarin",
      "userId": "07493954283969006720"
     },
     "user_tz": -120
    },
    "id": "9tn_keYSDrA3",
    "outputId": "d5926422-474b-4325-8c99-bdf8283ed521"
   },
   "outputs": [
    {
     "data": {
      "text/html": [
       "<div>\n",
       "<style scoped>\n",
       "    .dataframe tbody tr th:only-of-type {\n",
       "        vertical-align: middle;\n",
       "    }\n",
       "\n",
       "    .dataframe tbody tr th {\n",
       "        vertical-align: top;\n",
       "    }\n",
       "\n",
       "    .dataframe thead th {\n",
       "        text-align: right;\n",
       "    }\n",
       "</style>\n",
       "<table border=\"1\" class=\"dataframe\">\n",
       "  <thead>\n",
       "    <tr style=\"text-align: right;\">\n",
       "      <th></th>\n",
       "      <th>dialogue_id</th>\n",
       "      <th>turn</th>\n",
       "      <th>uttr</th>\n",
       "    </tr>\n",
       "  </thead>\n",
       "  <tbody>\n",
       "    <tr>\n",
       "      <th>0</th>\n",
       "      <td>217</td>\n",
       "      <td>1</td>\n",
       "      <td>Your medicine . Open your mouth .</td>\n",
       "    </tr>\n",
       "    <tr>\n",
       "      <th>1</th>\n",
       "      <td>217</td>\n",
       "      <td>2</td>\n",
       "      <td>Granny ...</td>\n",
       "    </tr>\n",
       "    <tr>\n",
       "      <th>2</th>\n",
       "      <td>500</td>\n",
       "      <td>1</td>\n",
       "      <td>Hi there , Welcome to the Stockroom .</td>\n",
       "    </tr>\n",
       "    <tr>\n",
       "      <th>3</th>\n",
       "      <td>500</td>\n",
       "      <td>2</td>\n",
       "      <td>I don 't really work here . I 've never even b...</td>\n",
       "    </tr>\n",
       "    <tr>\n",
       "      <th>4</th>\n",
       "      <td>675</td>\n",
       "      <td>1</td>\n",
       "      <td>I 'm gonna fuckin ' kill him . Wait your turn .</td>\n",
       "    </tr>\n",
       "    <tr>\n",
       "      <th>...</th>\n",
       "      <td>...</td>\n",
       "      <td>...</td>\n",
       "      <td>...</td>\n",
       "    </tr>\n",
       "    <tr>\n",
       "      <th>351031</th>\n",
       "      <td>8820571</td>\n",
       "      <td>1</td>\n",
       "      <td>Trying to force a nun back to the convent when...</td>\n",
       "    </tr>\n",
       "    <tr>\n",
       "      <th>351032</th>\n",
       "      <td>8820571</td>\n",
       "      <td>2</td>\n",
       "      <td>That seems to be your game . What 's that supp...</td>\n",
       "    </tr>\n",
       "    <tr>\n",
       "      <th>351033</th>\n",
       "      <td>8820621</td>\n",
       "      <td>1</td>\n",
       "      <td>Well .. .. this is just the way it was suppose...</td>\n",
       "    </tr>\n",
       "    <tr>\n",
       "      <th>351034</th>\n",
       "      <td>8820621</td>\n",
       "      <td>2</td>\n",
       "      <td>Well then , great .</td>\n",
       "    </tr>\n",
       "    <tr>\n",
       "      <th>351035</th>\n",
       "      <td>8820621</td>\n",
       "      <td>3</td>\n",
       "      <td>This is so stupid . How can I be upset over so...</td>\n",
       "    </tr>\n",
       "  </tbody>\n",
       "</table>\n",
       "<p>351036 rows × 3 columns</p>\n",
       "</div>"
      ],
      "text/plain": [
       "        dialogue_id  turn                                               uttr\n",
       "0               217     1                  Your medicine . Open your mouth .\n",
       "1               217     2                                         Granny ...\n",
       "2               500     1              Hi there , Welcome to the Stockroom .\n",
       "3               500     2  I don 't really work here . I 've never even b...\n",
       "4               675     1    I 'm gonna fuckin ' kill him . Wait your turn .\n",
       "...             ...   ...                                                ...\n",
       "351031      8820571     1  Trying to force a nun back to the convent when...\n",
       "351032      8820571     2  That seems to be your game . What 's that supp...\n",
       "351033      8820621     1  Well .. .. this is just the way it was suppose...\n",
       "351034      8820621     2                                Well then , great .\n",
       "351035      8820621     3  This is so stupid . How can I be upset over so...\n",
       "\n",
       "[351036 rows x 3 columns]"
      ]
     },
     "execution_count": 44,
     "metadata": {},
     "output_type": "execute_result"
    }
   ],
   "source": [
    "first_half = first_half.reset_index(drop=True)\n",
    "first_half"
   ]
  },
  {
   "cell_type": "code",
   "execution_count": 45,
   "metadata": {
    "colab": {
     "base_uri": "https://localhost:8080/"
    },
    "executionInfo": {
     "elapsed": 9,
     "status": "ok",
     "timestamp": 1683933383352,
     "user": {
      "displayName": "Simone Callegarin",
      "userId": "07493954283969006720"
     },
     "user_tz": -120
    },
    "id": "nSKgX44IFevw",
    "outputId": "ccabb85a-0494-4774-83cc-d3318203c2d7"
   },
   "outputs": [
    {
     "data": {
      "text/html": [
       "<div>\n",
       "<style scoped>\n",
       "    .dataframe tbody tr th:only-of-type {\n",
       "        vertical-align: middle;\n",
       "    }\n",
       "\n",
       "    .dataframe tbody tr th {\n",
       "        vertical-align: top;\n",
       "    }\n",
       "\n",
       "    .dataframe thead th {\n",
       "        text-align: right;\n",
       "    }\n",
       "</style>\n",
       "<table border=\"1\" class=\"dataframe\">\n",
       "  <thead>\n",
       "    <tr style=\"text-align: right;\">\n",
       "      <th></th>\n",
       "      <th>dialogue_id</th>\n",
       "      <th>turn</th>\n",
       "      <th>uttr</th>\n",
       "    </tr>\n",
       "  </thead>\n",
       "  <tbody>\n",
       "    <tr>\n",
       "      <th>0</th>\n",
       "      <td>217</td>\n",
       "      <td>3</td>\n",
       "      <td>Don 't spill it .</td>\n",
       "    </tr>\n",
       "    <tr>\n",
       "      <th>1</th>\n",
       "      <td>500</td>\n",
       "      <td>3</td>\n",
       "      <td>Don 't get me wrong . I 'm not a prude . I lik...</td>\n",
       "    </tr>\n",
       "    <tr>\n",
       "      <th>2</th>\n",
       "      <td>500</td>\n",
       "      <td>4</td>\n",
       "      <td>Shut up bitch ! Show us the butt plugs . Butt ...</td>\n",
       "    </tr>\n",
       "    <tr>\n",
       "      <th>3</th>\n",
       "      <td>675</td>\n",
       "      <td>3</td>\n",
       "      <td>You motherfucker ! No , no ! Hold on ! What th...</td>\n",
       "    </tr>\n",
       "    <tr>\n",
       "      <th>4</th>\n",
       "      <td>753</td>\n",
       "      <td>3</td>\n",
       "      <td>So I thought to myself ... I didn 't understan...</td>\n",
       "    </tr>\n",
       "    <tr>\n",
       "      <th>...</th>\n",
       "      <td>...</td>\n",
       "      <td>...</td>\n",
       "      <td>...</td>\n",
       "    </tr>\n",
       "    <tr>\n",
       "      <th>232583</th>\n",
       "      <td>8820065</td>\n",
       "      <td>4</td>\n",
       "      <td>Maybe . I think it would be better not to die .</td>\n",
       "    </tr>\n",
       "    <tr>\n",
       "      <th>232584</th>\n",
       "      <td>8820065</td>\n",
       "      <td>5</td>\n",
       "      <td>Don 't you , doctor ?</td>\n",
       "    </tr>\n",
       "    <tr>\n",
       "      <th>232585</th>\n",
       "      <td>8820571</td>\n",
       "      <td>3</td>\n",
       "      <td>Well , for example , right now , by the nature...</td>\n",
       "    </tr>\n",
       "    <tr>\n",
       "      <th>232586</th>\n",
       "      <td>8820621</td>\n",
       "      <td>4</td>\n",
       "      <td>It 's negative ?</td>\n",
       "    </tr>\n",
       "    <tr>\n",
       "      <th>232587</th>\n",
       "      <td>8820621</td>\n",
       "      <td>5</td>\n",
       "      <td>No , it 's positive .</td>\n",
       "    </tr>\n",
       "  </tbody>\n",
       "</table>\n",
       "<p>232588 rows × 3 columns</p>\n",
       "</div>"
      ],
      "text/plain": [
       "        dialogue_id  turn                                               uttr\n",
       "0               217     3                                  Don 't spill it .\n",
       "1               500     3  Don 't get me wrong . I 'm not a prude . I lik...\n",
       "2               500     4  Shut up bitch ! Show us the butt plugs . Butt ...\n",
       "3               675     3  You motherfucker ! No , no ! Hold on ! What th...\n",
       "4               753     3  So I thought to myself ... I didn 't understan...\n",
       "...             ...   ...                                                ...\n",
       "232583      8820065     4    Maybe . I think it would be better not to die .\n",
       "232584      8820065     5                              Don 't you , doctor ?\n",
       "232585      8820571     3  Well , for example , right now , by the nature...\n",
       "232586      8820621     4                                   It 's negative ?\n",
       "232587      8820621     5                              No , it 's positive .\n",
       "\n",
       "[232588 rows x 3 columns]"
      ]
     },
     "execution_count": 45,
     "metadata": {},
     "output_type": "execute_result"
    }
   ],
   "source": [
    "second_half = second_half.reset_index(drop=True)\n",
    "second_half"
   ]
  },
  {
   "cell_type": "markdown",
   "metadata": {
    "id": "u7osANAUJSGf"
   },
   "source": [
    "##### Check the Correctness"
   ]
  },
  {
   "cell_type": "markdown",
   "metadata": {
    "id": "wPM1qwzoJhmo"
   },
   "source": [
    "Check if the number of dialogues in the starting dataframe and in the other two that have been producedd is the same."
   ]
  },
  {
   "cell_type": "code",
   "execution_count": 46,
   "metadata": {
    "colab": {
     "base_uri": "https://localhost:8080/"
    },
    "executionInfo": {
     "elapsed": 10,
     "status": "ok",
     "timestamp": 1683933383353,
     "user": {
      "displayName": "Simone Callegarin",
      "userId": "07493954283969006720"
     },
     "user_tz": -120
    },
    "id": "YyFMdfhe_nHN",
    "outputId": "e3e0cfab-70a6-41d7-b077-3c1256b35907"
   },
   "outputs": [
    {
     "data": {
      "text/plain": [
       "True"
      ]
     },
     "execution_count": 46,
     "metadata": {},
     "output_type": "execute_result"
    }
   ],
   "source": [
    "len(final_df['dialogue_id'].unique()) == len(first_half['dialogue_id'].unique()) == len(second_half['dialogue_id'].unique())"
   ]
  },
  {
   "cell_type": "markdown",
   "metadata": {
    "id": "oVbwP6BsJsf2"
   },
   "source": [
    "Now let's see how the algorithm works with an example using the dialogue with more turns."
   ]
  },
  {
   "cell_type": "code",
   "execution_count": 48,
   "metadata": {
    "colab": {
     "base_uri": "https://localhost:8080/"
    },
    "executionInfo": {
     "elapsed": 10,
     "status": "ok",
     "timestamp": 1683933383353,
     "user": {
      "displayName": "Simone Callegarin",
      "userId": "07493954283969006720"
     },
     "user_tz": -120
    },
    "id": "LLHPkRrcI8yp",
    "outputId": "4555c5d6-5e69-4fa7-91e1-b5f3c4dbc344"
   },
   "outputs": [
    {
     "data": {
      "text/plain": [
       "13"
      ]
     },
     "execution_count": 48,
     "metadata": {},
     "output_type": "execute_result"
    }
   ],
   "source": [
    "max_turn = final_df['turn'].max()\n",
    "max_turn"
   ]
  },
  {
   "cell_type": "code",
   "execution_count": 49,
   "metadata": {
    "id": "TCNx4H8uL-_Q"
   },
   "outputs": [],
   "source": [
    "row_with_max_turn = final_df.loc[final_df['turn'] == max_turn]"
   ]
  },
  {
   "cell_type": "code",
   "execution_count": 50,
   "metadata": {
    "colab": {
     "base_uri": "https://localhost:8080/"
    },
    "executionInfo": {
     "elapsed": 9,
     "status": "ok",
     "timestamp": 1683933383353,
     "user": {
      "displayName": "Simone Callegarin",
      "userId": "07493954283969006720"
     },
     "user_tz": -120
    },
    "id": "YNREeIXBMPPU",
    "outputId": "f27cbdf9-4560-4230-c8f9-b269d6443cf0"
   },
   "outputs": [
    {
     "data": {
      "text/html": [
       "<div>\n",
       "<style scoped>\n",
       "    .dataframe tbody tr th:only-of-type {\n",
       "        vertical-align: middle;\n",
       "    }\n",
       "\n",
       "    .dataframe tbody tr th {\n",
       "        vertical-align: top;\n",
       "    }\n",
       "\n",
       "    .dataframe thead th {\n",
       "        text-align: right;\n",
       "    }\n",
       "</style>\n",
       "<table border=\"1\" class=\"dataframe\">\n",
       "  <thead>\n",
       "    <tr style=\"text-align: right;\">\n",
       "      <th></th>\n",
       "      <th>dialogue_id</th>\n",
       "      <th>turn</th>\n",
       "      <th>uttr</th>\n",
       "    </tr>\n",
       "  </thead>\n",
       "  <tbody>\n",
       "    <tr>\n",
       "      <th>227854</th>\n",
       "      <td>2848381</td>\n",
       "      <td>13</td>\n",
       "      <td>I believe in children eating Their breakfast a...</td>\n",
       "    </tr>\n",
       "    <tr>\n",
       "      <th>553527</th>\n",
       "      <td>7010226</td>\n",
       "      <td>13</td>\n",
       "      <td>Why did you come ?</td>\n",
       "    </tr>\n",
       "  </tbody>\n",
       "</table>\n",
       "</div>"
      ],
      "text/plain": [
       "        dialogue_id  turn                                               uttr\n",
       "227854      2848381    13  I believe in children eating Their breakfast a...\n",
       "553527      7010226    13                                 Why did you come ?"
      ]
     },
     "execution_count": 50,
     "metadata": {},
     "output_type": "execute_result"
    }
   ],
   "source": [
    "row_with_max_turn"
   ]
  },
  {
   "cell_type": "code",
   "execution_count": 51,
   "metadata": {
    "colab": {
     "base_uri": "https://localhost:8080/"
    },
    "executionInfo": {
     "elapsed": 9,
     "status": "ok",
     "timestamp": 1683933383353,
     "user": {
      "displayName": "Simone Callegarin",
      "userId": "07493954283969006720"
     },
     "user_tz": -120
    },
    "id": "jTmRIreoHiXY",
    "outputId": "095575e5-c638-4461-c6f6-e4cc44d54851"
   },
   "outputs": [
    {
     "data": {
      "text/html": [
       "<div>\n",
       "<style scoped>\n",
       "    .dataframe tbody tr th:only-of-type {\n",
       "        vertical-align: middle;\n",
       "    }\n",
       "\n",
       "    .dataframe tbody tr th {\n",
       "        vertical-align: top;\n",
       "    }\n",
       "\n",
       "    .dataframe thead th {\n",
       "        text-align: right;\n",
       "    }\n",
       "</style>\n",
       "<table border=\"1\" class=\"dataframe\">\n",
       "  <thead>\n",
       "    <tr style=\"text-align: right;\">\n",
       "      <th></th>\n",
       "      <th>dialogue_id</th>\n",
       "      <th>turn</th>\n",
       "      <th>uttr</th>\n",
       "    </tr>\n",
       "  </thead>\n",
       "  <tbody>\n",
       "    <tr>\n",
       "      <th>139339</th>\n",
       "      <td>2848381</td>\n",
       "      <td>1</td>\n",
       "      <td>Good morning , father .</td>\n",
       "    </tr>\n",
       "    <tr>\n",
       "      <th>139340</th>\n",
       "      <td>2848381</td>\n",
       "      <td>2</td>\n",
       "      <td>Good morning , Darling .</td>\n",
       "    </tr>\n",
       "    <tr>\n",
       "      <th>139341</th>\n",
       "      <td>2848381</td>\n",
       "      <td>3</td>\n",
       "      <td>Good morning , Aunt Josephine .</td>\n",
       "    </tr>\n",
       "    <tr>\n",
       "      <th>139342</th>\n",
       "      <td>2848381</td>\n",
       "      <td>4</td>\n",
       "      <td>Good morning , Kitty .</td>\n",
       "    </tr>\n",
       "    <tr>\n",
       "      <th>139343</th>\n",
       "      <td>2848381</td>\n",
       "      <td>5</td>\n",
       "      <td>Good morning , Lawrence .</td>\n",
       "    </tr>\n",
       "    <tr>\n",
       "      <th>139344</th>\n",
       "      <td>2848381</td>\n",
       "      <td>6</td>\n",
       "      <td>Goodbye , Aunt josephine .</td>\n",
       "    </tr>\n",
       "    <tr>\n",
       "      <th>139345</th>\n",
       "      <td>2848381</td>\n",
       "      <td>7</td>\n",
       "      <td>Goodbye , Kitty . Have a good time .</td>\n",
       "    </tr>\n",
       "  </tbody>\n",
       "</table>\n",
       "</div>"
      ],
      "text/plain": [
       "        dialogue_id  turn                                  uttr\n",
       "139339      2848381     1               Good morning , father .\n",
       "139340      2848381     2              Good morning , Darling .\n",
       "139341      2848381     3       Good morning , Aunt Josephine .\n",
       "139342      2848381     4                Good morning , Kitty .\n",
       "139343      2848381     5             Good morning , Lawrence .\n",
       "139344      2848381     6            Goodbye , Aunt josephine .\n",
       "139345      2848381     7  Goodbye , Kitty . Have a good time ."
      ]
     },
     "execution_count": 51,
     "metadata": {},
     "output_type": "execute_result"
    }
   ],
   "source": [
    "first_dialogue = first_half.loc[first_half['dialogue_id'] == row_with_max_turn['dialogue_id'].values[0]]\n",
    "first_dialogue"
   ]
  },
  {
   "cell_type": "code",
   "execution_count": 52,
   "metadata": {
    "colab": {
     "base_uri": "https://localhost:8080/"
    },
    "executionInfo": {
     "elapsed": 9,
     "status": "ok",
     "timestamp": 1683933383354,
     "user": {
      "displayName": "Simone Callegarin",
      "userId": "07493954283969006720"
     },
     "user_tz": -120
    },
    "id": "X_lkLZ9FIB-U",
    "outputId": "b16d36ee-9b01-4442-bcc0-15bfc77864bf"
   },
   "outputs": [
    {
     "data": {
      "text/html": [
       "<div>\n",
       "<style scoped>\n",
       "    .dataframe tbody tr th:only-of-type {\n",
       "        vertical-align: middle;\n",
       "    }\n",
       "\n",
       "    .dataframe tbody tr th {\n",
       "        vertical-align: top;\n",
       "    }\n",
       "\n",
       "    .dataframe thead th {\n",
       "        text-align: right;\n",
       "    }\n",
       "</style>\n",
       "<table border=\"1\" class=\"dataframe\">\n",
       "  <thead>\n",
       "    <tr style=\"text-align: right;\">\n",
       "      <th></th>\n",
       "      <th>dialogue_id</th>\n",
       "      <th>turn</th>\n",
       "      <th>uttr</th>\n",
       "    </tr>\n",
       "  </thead>\n",
       "  <tbody>\n",
       "    <tr>\n",
       "      <th>88503</th>\n",
       "      <td>2848381</td>\n",
       "      <td>8</td>\n",
       "      <td>I will !</td>\n",
       "    </tr>\n",
       "    <tr>\n",
       "      <th>88504</th>\n",
       "      <td>2848381</td>\n",
       "      <td>9</td>\n",
       "      <td>Take good care Of yourself !</td>\n",
       "    </tr>\n",
       "    <tr>\n",
       "      <th>88505</th>\n",
       "      <td>2848381</td>\n",
       "      <td>10</td>\n",
       "      <td>I will !</td>\n",
       "    </tr>\n",
       "    <tr>\n",
       "      <th>88506</th>\n",
       "      <td>2848381</td>\n",
       "      <td>11</td>\n",
       "      <td>Goodbye , darling ! Goodbye !</td>\n",
       "    </tr>\n",
       "    <tr>\n",
       "      <th>88507</th>\n",
       "      <td>2848381</td>\n",
       "      <td>12</td>\n",
       "      <td>Must we have A draft , Henry ?</td>\n",
       "    </tr>\n",
       "    <tr>\n",
       "      <th>88508</th>\n",
       "      <td>2848381</td>\n",
       "      <td>13</td>\n",
       "      <td>I believe in children eating Their breakfast a...</td>\n",
       "    </tr>\n",
       "  </tbody>\n",
       "</table>\n",
       "</div>"
      ],
      "text/plain": [
       "       dialogue_id  turn                                               uttr\n",
       "88503      2848381     8                                           I will !\n",
       "88504      2848381     9                       Take good care Of yourself !\n",
       "88505      2848381    10                                           I will !\n",
       "88506      2848381    11                      Goodbye , darling ! Goodbye !\n",
       "88507      2848381    12                     Must we have A draft , Henry ?\n",
       "88508      2848381    13  I believe in children eating Their breakfast a..."
      ]
     },
     "execution_count": 52,
     "metadata": {},
     "output_type": "execute_result"
    }
   ],
   "source": [
    "second_dialogue = second_half.loc[second_half['dialogue_id'] == row_with_max_turn['dialogue_id'].values[0]]\n",
    "second_dialogue"
   ]
  },
  {
   "cell_type": "markdown",
   "metadata": {
    "id": "ILqAIhamJ34Y"
   },
   "source": [
    "The algorithm correctly split the dialogue into two parts, exactly in half."
   ]
  },
  {
   "cell_type": "markdown",
   "metadata": {
    "id": "MO_GaTpoPWZn"
   },
   "source": [
    "####  Generate a Dataframe with other Random Dialogues "
   ]
  },
  {
   "cell_type": "markdown",
   "metadata": {
    "id": "dDntL7Ss5jos"
   },
   "source": [
    "From the original dataset we produced a dataframe containing all the other dialogues that were not involved in the *first_sentences* and *second_sentences* dataframes."
   ]
  },
  {
   "cell_type": "code",
   "execution_count": 107,
   "metadata": {
    "id": "rjeqQUtvqejr"
   },
   "outputs": [],
   "source": [
    "# Get the dialogue_id values for rows that occur only once\n",
    "taken_dialogues = final_df['dialogue_id'].unique()\n",
    "\n",
    "# Filter the DataFrame to rows with unique dialogue_id values\n",
    "wrong_sentences = df[~df['dialogue_id'].isin(taken_dialogues)]"
   ]
  },
  {
   "cell_type": "markdown",
   "metadata": {
    "id": "nREalfTtL7et"
   },
   "source": [
    "##### Preprocess"
   ]
  },
  {
   "cell_type": "code",
   "execution_count": 73,
   "metadata": {
    "colab": {
     "base_uri": "https://localhost:8080/"
    },
    "executionInfo": {
     "elapsed": 319,
     "status": "ok",
     "timestamp": 1683933383664,
     "user": {
      "displayName": "Simone Callegarin",
      "userId": "07493954283969006720"
     },
     "user_tz": -120
    },
    "id": "NHabJZrK37tP",
    "outputId": "e46d3b36-659b-4b67-85f0-a056f9c65ea7"
   },
   "outputs": [
    {
     "data": {
      "text/plain": [
       "questioning      774194\n",
       "furious          120924\n",
       "acknowledging    103431\n",
       "trusting          99048\n",
       "wishing           77093\n",
       "anticipating      75324\n",
       "suggesting        74861\n",
       "Name: eb+_emot, dtype: int64"
      ]
     },
     "execution_count": 73,
     "metadata": {},
     "output_type": "execute_result"
    }
   ],
   "source": [
    "wrong_sentences['eb+_emot'].value_counts()[:7]"
   ]
  },
  {
   "cell_type": "markdown",
   "metadata": {
    "id": "2AM-2HsX5750"
   },
   "source": [
    "The distribution of the emotions over this dataset is quite unbalanced, so as before, we filter out some dialogues that contains the *questioning* emotion."
   ]
  },
  {
   "cell_type": "code",
   "execution_count": 108,
   "metadata": {
    "id": "Den_stGv4aA6"
   },
   "outputs": [],
   "source": [
    "questioning_dialogues_to_mantain = 65000"
   ]
  },
  {
   "cell_type": "code",
   "execution_count": 109,
   "metadata": {
    "id": "KJ3WgC4Q4KSL"
   },
   "outputs": [],
   "source": [
    "# Get the dialogue_id values where eb+_emot == 'questioning'\n",
    "questioning_dialogues = wrong_sentences.loc[wrong_sentences['eb+_emot'] == 'questioning', 'dialogue_id'].unique()\n",
    "\n",
    "# Get the dialogue_id of the dialogues conatining 'questioning' that has to be removed\n",
    "questioning_dialogues_to_remove = questioning_dialogues[:(len(questioning_dialogues)-questioning_dialogues_to_mantain)]\n",
    "\n",
    "# Filter out the exceeding dialogues containing 'questioning' for each dialogue_id\n",
    "wrong_sentences = wrong_sentences[~wrong_sentences['dialogue_id'].isin(questioning_dialogues_to_remove)]\n",
    "\n",
    "# Reset the index of the filtered DataFrame\n",
    "wrong_sentences = wrong_sentences.reset_index(drop=True)"
   ]
  },
  {
   "cell_type": "code",
   "execution_count": 110,
   "metadata": {
    "colab": {
     "base_uri": "https://localhost:8080/"
    },
    "executionInfo": {
     "elapsed": 2,
     "status": "ok",
     "timestamp": 1683933384329,
     "user": {
      "displayName": "Simone Callegarin",
      "userId": "07493954283969006720"
     },
     "user_tz": -120
    },
    "id": "QqSsrGhV4Ynr",
    "outputId": "3b7899b0-65c7-4e73-c1da-7c3672ff447f"
   },
   "outputs": [
    {
     "data": {
      "text/plain": [
       "questioning      84760\n",
       "furious          58234\n",
       "trusting         44940\n",
       "acknowledging    43890\n",
       "wishing          39806\n",
       "anticipating     36286\n",
       "suggesting       34432\n",
       "Name: eb+_emot, dtype: int64"
      ]
     },
     "execution_count": 110,
     "metadata": {},
     "output_type": "execute_result"
    }
   ],
   "source": [
    "wrong_sentences['eb+_emot'].value_counts()[:7]"
   ]
  },
  {
   "cell_type": "markdown",
   "metadata": {
    "id": "-U5wuLK16Rrw"
   },
   "source": [
    "Now the distribution looks quite homogeneous."
   ]
  },
  {
   "cell_type": "markdown",
   "metadata": {
    "id": "owN69saxNIG6"
   },
   "source": [
    "##### Split the Utterances Randomly"
   ]
  },
  {
   "cell_type": "markdown",
   "metadata": {
    "id": "FKdcoVqoNdQG"
   },
   "source": [
    "For each dialogue we select the first randomic utterances in order to put them togheter next."
   ]
  },
  {
   "cell_type": "code",
   "execution_count": 115,
   "metadata": {
    "tags": []
   },
   "outputs": [],
   "source": [
    "wrong_sentences = wrong_sentences.iloc[:len(first_sentences)][['dialogue_id','uttr']]"
   ]
  },
  {
   "cell_type": "code",
   "execution_count": 116,
   "metadata": {
    "colab": {
     "base_uri": "https://localhost:8080/"
    },
    "executionInfo": {
     "elapsed": 4,
     "status": "ok",
     "timestamp": 1683933385413,
     "user": {
      "displayName": "Simone Callegarin",
      "userId": "07493954283969006720"
     },
     "user_tz": -120
    },
    "id": "iUdKqB4w75y1",
    "outputId": "62b2c4e7-ee88-4ef2-98d4-a357bf26b4df"
   },
   "outputs": [
    {
     "data": {
      "text/html": [
       "<div>\n",
       "<style scoped>\n",
       "    .dataframe tbody tr th:only-of-type {\n",
       "        vertical-align: middle;\n",
       "    }\n",
       "\n",
       "    .dataframe tbody tr th {\n",
       "        vertical-align: top;\n",
       "    }\n",
       "\n",
       "    .dataframe thead th {\n",
       "        text-align: right;\n",
       "    }\n",
       "</style>\n",
       "<table border=\"1\" class=\"dataframe\">\n",
       "  <thead>\n",
       "    <tr style=\"text-align: right;\">\n",
       "      <th></th>\n",
       "      <th>dialogue_id</th>\n",
       "      <th>uttr</th>\n",
       "    </tr>\n",
       "  </thead>\n",
       "  <tbody>\n",
       "    <tr>\n",
       "      <th>0</th>\n",
       "      <td>97</td>\n",
       "      <td>You moron ! What fool washes diapers by the we...</td>\n",
       "    </tr>\n",
       "    <tr>\n",
       "      <th>1</th>\n",
       "      <td>97</td>\n",
       "      <td>You useless fool !</td>\n",
       "    </tr>\n",
       "    <tr>\n",
       "      <th>2</th>\n",
       "      <td>99</td>\n",
       "      <td>How dare you sleep !</td>\n",
       "    </tr>\n",
       "    <tr>\n",
       "      <th>3</th>\n",
       "      <td>99</td>\n",
       "      <td>Up ! Go and clean the house .</td>\n",
       "    </tr>\n",
       "    <tr>\n",
       "      <th>4</th>\n",
       "      <td>100</td>\n",
       "      <td>Clean the kitchen .</td>\n",
       "    </tr>\n",
       "    <tr>\n",
       "      <th>...</th>\n",
       "      <td>...</td>\n",
       "      <td>...</td>\n",
       "    </tr>\n",
       "    <tr>\n",
       "      <th>162094</th>\n",
       "      <td>6583947</td>\n",
       "      <td>You like games ? You know what you are ? A bit...</td>\n",
       "    </tr>\n",
       "    <tr>\n",
       "      <th>162095</th>\n",
       "      <td>6583947</td>\n",
       "      <td>Hands off ! Ah , shut up , Michel .</td>\n",
       "    </tr>\n",
       "    <tr>\n",
       "      <th>162096</th>\n",
       "      <td>6583948</td>\n",
       "      <td>If you need me I 'm always here for you .</td>\n",
       "    </tr>\n",
       "    <tr>\n",
       "      <th>162097</th>\n",
       "      <td>6583948</td>\n",
       "      <td>My love .</td>\n",
       "    </tr>\n",
       "    <tr>\n",
       "      <th>162098</th>\n",
       "      <td>6584060</td>\n",
       "      <td>A compass !</td>\n",
       "    </tr>\n",
       "  </tbody>\n",
       "</table>\n",
       "<p>162099 rows × 2 columns</p>\n",
       "</div>"
      ],
      "text/plain": [
       "        dialogue_id                                               uttr\n",
       "0                97  You moron ! What fool washes diapers by the we...\n",
       "1                97                                 You useless fool !\n",
       "2                99                               How dare you sleep !\n",
       "3                99                      Up ! Go and clean the house .\n",
       "4               100                                Clean the kitchen .\n",
       "...             ...                                                ...\n",
       "162094      6583947  You like games ? You know what you are ? A bit...\n",
       "162095      6583947                Hands off ! Ah , shut up , Michel .\n",
       "162096      6583948          If you need me I 'm always here for you .\n",
       "162097      6583948                                          My love .\n",
       "162098      6584060                                        A compass !\n",
       "\n",
       "[162099 rows x 2 columns]"
      ]
     },
     "execution_count": 116,
     "metadata": {},
     "output_type": "execute_result"
    }
   ],
   "source": [
    "wrong_sentences"
   ]
  },
  {
   "cell_type": "markdown",
   "metadata": {
    "id": "LQQRVB3mKBS3"
   },
   "source": [
    "#### Merge the utterances together"
   ]
  },
  {
   "cell_type": "markdown",
   "metadata": {
    "id": "-tEDL69_K479"
   },
   "source": [
    "Let's now merge the utterances of the same dialogues togheter."
   ]
  },
  {
   "cell_type": "code",
   "execution_count": 63,
   "metadata": {
    "id": "4q0iI3PeLD40"
   },
   "outputs": [],
   "source": [
    "first_sentences = first_half.groupby('dialogue_id')['uttr'].agg(' '.join).reset_index()\n",
    "second_sentences = second_half.groupby('dialogue_id')['uttr'].agg(' '.join).reset_index()\n",
    "wrong_sentences = wrong_sentences.groupby('dialogue_id')['uttr'].agg(' '.join).reset_index()"
   ]
  },
  {
   "cell_type": "code",
   "execution_count": 64,
   "metadata": {
    "colab": {
     "base_uri": "https://localhost:8080/"
    },
    "executionInfo": {
     "elapsed": 17,
     "status": "ok",
     "timestamp": 1683933398295,
     "user": {
      "displayName": "Simone Callegarin",
      "userId": "07493954283969006720"
     },
     "user_tz": -120
    },
    "id": "4VeyG5jaM6tW",
    "outputId": "980aa40b-e1bb-4ed4-d5ad-72e9e340dc7b"
   },
   "outputs": [
    {
     "data": {
      "text/html": [
       "<div>\n",
       "<style scoped>\n",
       "    .dataframe tbody tr th:only-of-type {\n",
       "        vertical-align: middle;\n",
       "    }\n",
       "\n",
       "    .dataframe tbody tr th {\n",
       "        vertical-align: top;\n",
       "    }\n",
       "\n",
       "    .dataframe thead th {\n",
       "        text-align: right;\n",
       "    }\n",
       "</style>\n",
       "<table border=\"1\" class=\"dataframe\">\n",
       "  <thead>\n",
       "    <tr style=\"text-align: right;\">\n",
       "      <th></th>\n",
       "      <th>dialogue_id</th>\n",
       "      <th>uttr</th>\n",
       "    </tr>\n",
       "  </thead>\n",
       "  <tbody>\n",
       "    <tr>\n",
       "      <th>0</th>\n",
       "      <td>76</td>\n",
       "      <td>Granny . Don 't tell anyone . Keep it . That '...</td>\n",
       "    </tr>\n",
       "    <tr>\n",
       "      <th>1</th>\n",
       "      <td>200</td>\n",
       "      <td>How about Oshin ? Oshin .</td>\n",
       "    </tr>\n",
       "    <tr>\n",
       "      <th>2</th>\n",
       "      <td>217</td>\n",
       "      <td>Your medicine . Open your mouth . Granny ...</td>\n",
       "    </tr>\n",
       "    <tr>\n",
       "      <th>3</th>\n",
       "      <td>355</td>\n",
       "      <td>Sir , I 'd like some private moment with my mo...</td>\n",
       "    </tr>\n",
       "    <tr>\n",
       "      <th>4</th>\n",
       "      <td>379</td>\n",
       "      <td>What the hell ? No one 's here . Dammit ! Chie...</td>\n",
       "    </tr>\n",
       "    <tr>\n",
       "      <th>...</th>\n",
       "      <td>...</td>\n",
       "      <td>...</td>\n",
       "    </tr>\n",
       "    <tr>\n",
       "      <th>162094</th>\n",
       "      <td>8820466</td>\n",
       "      <td>There 's another . It 's not happy , exactly ....</td>\n",
       "    </tr>\n",
       "    <tr>\n",
       "      <th>162095</th>\n",
       "      <td>8820525</td>\n",
       "      <td>Minister , I really think I should sign as wel...</td>\n",
       "    </tr>\n",
       "    <tr>\n",
       "      <th>162096</th>\n",
       "      <td>8820568</td>\n",
       "      <td>Father , it 's God 's work . No , it is this w...</td>\n",
       "    </tr>\n",
       "    <tr>\n",
       "      <th>162097</th>\n",
       "      <td>8820571</td>\n",
       "      <td>Trying to force a nun back to the convent when...</td>\n",
       "    </tr>\n",
       "    <tr>\n",
       "      <th>162098</th>\n",
       "      <td>8820621</td>\n",
       "      <td>Well .. .. this is just the way it was suppose...</td>\n",
       "    </tr>\n",
       "  </tbody>\n",
       "</table>\n",
       "<p>162099 rows × 2 columns</p>\n",
       "</div>"
      ],
      "text/plain": [
       "        dialogue_id                                               uttr\n",
       "0                76  Granny . Don 't tell anyone . Keep it . That '...\n",
       "1               200                          How about Oshin ? Oshin .\n",
       "2               217       Your medicine . Open your mouth . Granny ...\n",
       "3               355  Sir , I 'd like some private moment with my mo...\n",
       "4               379  What the hell ? No one 's here . Dammit ! Chie...\n",
       "...             ...                                                ...\n",
       "162094      8820466  There 's another . It 's not happy , exactly ....\n",
       "162095      8820525  Minister , I really think I should sign as wel...\n",
       "162096      8820568  Father , it 's God 's work . No , it is this w...\n",
       "162097      8820571  Trying to force a nun back to the convent when...\n",
       "162098      8820621  Well .. .. this is just the way it was suppose...\n",
       "\n",
       "[162099 rows x 2 columns]"
      ]
     },
     "execution_count": 64,
     "metadata": {},
     "output_type": "execute_result"
    }
   ],
   "source": [
    "first_sentences"
   ]
  },
  {
   "cell_type": "code",
   "execution_count": 65,
   "metadata": {
    "colab": {
     "base_uri": "https://localhost:8080/"
    },
    "executionInfo": {
     "elapsed": 17,
     "status": "ok",
     "timestamp": 1683933398296,
     "user": {
      "displayName": "Simone Callegarin",
      "userId": "07493954283969006720"
     },
     "user_tz": -120
    },
    "id": "1-7Vzsh0M88_",
    "outputId": "313832df-763e-473e-f1a4-4d9a9b07acfc"
   },
   "outputs": [
    {
     "data": {
      "text/html": [
       "<div>\n",
       "<style scoped>\n",
       "    .dataframe tbody tr th:only-of-type {\n",
       "        vertical-align: middle;\n",
       "    }\n",
       "\n",
       "    .dataframe tbody tr th {\n",
       "        vertical-align: top;\n",
       "    }\n",
       "\n",
       "    .dataframe thead th {\n",
       "        text-align: right;\n",
       "    }\n",
       "</style>\n",
       "<table border=\"1\" class=\"dataframe\">\n",
       "  <thead>\n",
       "    <tr style=\"text-align: right;\">\n",
       "      <th></th>\n",
       "      <th>dialogue_id</th>\n",
       "      <th>uttr</th>\n",
       "    </tr>\n",
       "  </thead>\n",
       "  <tbody>\n",
       "    <tr>\n",
       "      <th>0</th>\n",
       "      <td>76</td>\n",
       "      <td>Granny , thank you so much . Hey ! She 's ready .</td>\n",
       "    </tr>\n",
       "    <tr>\n",
       "      <th>1</th>\n",
       "      <td>200</td>\n",
       "      <td>Thank you , ma 'am !</td>\n",
       "    </tr>\n",
       "    <tr>\n",
       "      <th>2</th>\n",
       "      <td>217</td>\n",
       "      <td>Don 't spill it .</td>\n",
       "    </tr>\n",
       "    <tr>\n",
       "      <th>3</th>\n",
       "      <td>355</td>\n",
       "      <td>Okay . Until midnight . Thank you .</td>\n",
       "    </tr>\n",
       "    <tr>\n",
       "      <th>4</th>\n",
       "      <td>379</td>\n",
       "      <td>So he did live here . Maybe he got tipped off ...</td>\n",
       "    </tr>\n",
       "    <tr>\n",
       "      <th>...</th>\n",
       "      <td>...</td>\n",
       "      <td>...</td>\n",
       "    </tr>\n",
       "    <tr>\n",
       "      <th>162094</th>\n",
       "      <td>8820466</td>\n",
       "      <td>Then let 's give it a try . You feel ready ? J...</td>\n",
       "    </tr>\n",
       "    <tr>\n",
       "      <th>162095</th>\n",
       "      <td>8820525</td>\n",
       "      <td>Okay , Buckbeak . Come quickly . Come with us ...</td>\n",
       "    </tr>\n",
       "    <tr>\n",
       "      <th>162096</th>\n",
       "      <td>8820568</td>\n",
       "      <td>Yes , yes . God kept you here . He brought us ...</td>\n",
       "    </tr>\n",
       "    <tr>\n",
       "      <th>162097</th>\n",
       "      <td>8820571</td>\n",
       "      <td>Well , for example , right now , by the nature...</td>\n",
       "    </tr>\n",
       "    <tr>\n",
       "      <th>162098</th>\n",
       "      <td>8820621</td>\n",
       "      <td>It 's negative ? No , it 's positive .</td>\n",
       "    </tr>\n",
       "  </tbody>\n",
       "</table>\n",
       "<p>162099 rows × 2 columns</p>\n",
       "</div>"
      ],
      "text/plain": [
       "        dialogue_id                                               uttr\n",
       "0                76  Granny , thank you so much . Hey ! She 's ready .\n",
       "1               200                               Thank you , ma 'am !\n",
       "2               217                                  Don 't spill it .\n",
       "3               355                Okay . Until midnight . Thank you .\n",
       "4               379  So he did live here . Maybe he got tipped off ...\n",
       "...             ...                                                ...\n",
       "162094      8820466  Then let 's give it a try . You feel ready ? J...\n",
       "162095      8820525  Okay , Buckbeak . Come quickly . Come with us ...\n",
       "162096      8820568  Yes , yes . God kept you here . He brought us ...\n",
       "162097      8820571  Well , for example , right now , by the nature...\n",
       "162098      8820621             It 's negative ? No , it 's positive .\n",
       "\n",
       "[162099 rows x 2 columns]"
      ]
     },
     "execution_count": 65,
     "metadata": {},
     "output_type": "execute_result"
    }
   ],
   "source": [
    "second_sentences"
   ]
  },
  {
   "cell_type": "code",
   "execution_count": 67,
   "metadata": {
    "colab": {
     "base_uri": "https://localhost:8080/"
    },
    "executionInfo": {
     "elapsed": 15,
     "status": "ok",
     "timestamp": 1683933398296,
     "user": {
      "displayName": "Simone Callegarin",
      "userId": "07493954283969006720"
     },
     "user_tz": -120
    },
    "id": "CnD5mTAV5TG8",
    "outputId": "bf7391da-ccc5-4c7a-ed48-69c412bcabf5"
   },
   "outputs": [
    {
     "data": {
      "text/html": [
       "<div>\n",
       "<style scoped>\n",
       "    .dataframe tbody tr th:only-of-type {\n",
       "        vertical-align: middle;\n",
       "    }\n",
       "\n",
       "    .dataframe tbody tr th {\n",
       "        vertical-align: top;\n",
       "    }\n",
       "\n",
       "    .dataframe thead th {\n",
       "        text-align: right;\n",
       "    }\n",
       "</style>\n",
       "<table border=\"1\" class=\"dataframe\">\n",
       "  <thead>\n",
       "    <tr style=\"text-align: right;\">\n",
       "      <th></th>\n",
       "      <th>dialogue_id</th>\n",
       "      <th>uttr</th>\n",
       "    </tr>\n",
       "  </thead>\n",
       "  <tbody>\n",
       "    <tr>\n",
       "      <th>0</th>\n",
       "      <td>1</td>\n",
       "      <td>So , let 's take a look at what 's going on ar...</td>\n",
       "    </tr>\n",
       "    <tr>\n",
       "      <th>1</th>\n",
       "      <td>53</td>\n",
       "      <td>Good for you ! That 's a big piece .</td>\n",
       "    </tr>\n",
       "    <tr>\n",
       "      <th>2</th>\n",
       "      <td>68</td>\n",
       "      <td>Is this rice ?</td>\n",
       "    </tr>\n",
       "    <tr>\n",
       "      <th>3</th>\n",
       "      <td>84</td>\n",
       "      <td>It 's breakfast time !</td>\n",
       "    </tr>\n",
       "    <tr>\n",
       "      <th>4</th>\n",
       "      <td>97</td>\n",
       "      <td>You moron ! What fool washes diapers by the we...</td>\n",
       "    </tr>\n",
       "    <tr>\n",
       "      <th>...</th>\n",
       "      <td>...</td>\n",
       "      <td>...</td>\n",
       "    </tr>\n",
       "    <tr>\n",
       "      <th>352747</th>\n",
       "      <td>8820579</td>\n",
       "      <td>Bring her back to him . Wow . It 's a miracle .</td>\n",
       "    </tr>\n",
       "    <tr>\n",
       "      <th>352748</th>\n",
       "      <td>8820594</td>\n",
       "      <td>Okay , so we 're cool . We 're going to be gre...</td>\n",
       "    </tr>\n",
       "    <tr>\n",
       "      <th>352749</th>\n",
       "      <td>8820596</td>\n",
       "      <td>Check it out , the \" Chan-Chan Man \" !</td>\n",
       "    </tr>\n",
       "    <tr>\n",
       "      <th>352750</th>\n",
       "      <td>8820631</td>\n",
       "      <td>Wow , I can 't believe that 's our baby .</td>\n",
       "    </tr>\n",
       "    <tr>\n",
       "      <th>352751</th>\n",
       "      <td>8820637</td>\n",
       "      <td>Thank God !</td>\n",
       "    </tr>\n",
       "  </tbody>\n",
       "</table>\n",
       "<p>352752 rows × 2 columns</p>\n",
       "</div>"
      ],
      "text/plain": [
       "        dialogue_id                                               uttr\n",
       "0                 1  So , let 's take a look at what 's going on ar...\n",
       "1                53               Good for you ! That 's a big piece .\n",
       "2                68                                     Is this rice ?\n",
       "3                84                             It 's breakfast time !\n",
       "4                97  You moron ! What fool washes diapers by the we...\n",
       "...             ...                                                ...\n",
       "352747      8820579    Bring her back to him . Wow . It 's a miracle .\n",
       "352748      8820594  Okay , so we 're cool . We 're going to be gre...\n",
       "352749      8820596             Check it out , the \" Chan-Chan Man \" !\n",
       "352750      8820631          Wow , I can 't believe that 's our baby .\n",
       "352751      8820637                                        Thank God !\n",
       "\n",
       "[352752 rows x 2 columns]"
      ]
     },
     "execution_count": 67,
     "metadata": {},
     "output_type": "execute_result"
    }
   ],
   "source": [
    "wrong_sentences"
   ]
  },
  {
   "cell_type": "markdown",
   "metadata": {
    "id": "sQTdW5tTOqq2"
   },
   "source": [
    "Check the correctness of the dataframes produced: *first_sentences* and *second_sentences* must have an equal number of dialogues."
   ]
  },
  {
   "cell_type": "code",
   "execution_count": 66,
   "metadata": {
    "colab": {
     "base_uri": "https://localhost:8080/"
    },
    "executionInfo": {
     "elapsed": 16,
     "status": "ok",
     "timestamp": 1683933398296,
     "user": {
      "displayName": "Simone Callegarin",
      "userId": "07493954283969006720"
     },
     "user_tz": -120
    },
    "id": "hkVEGmjPOvGu",
    "outputId": "8f4575b9-3df3-4ec6-acc1-473c658516f8"
   },
   "outputs": [
    {
     "data": {
      "text/plain": [
       "True"
      ]
     },
     "execution_count": 66,
     "metadata": {},
     "output_type": "execute_result"
    }
   ],
   "source": [
    "len(first_sentences) == len(second_sentences) == len(final_df['dialogue_id'].unique())"
   ]
  },
  {
   "cell_type": "code",
   "execution_count": 71,
   "metadata": {},
   "outputs": [
    {
     "data": {
      "text/plain": [
       "162099"
      ]
     },
     "execution_count": 71,
     "metadata": {},
     "output_type": "execute_result"
    }
   ],
   "source": [
    "len(second_sentences)"
   ]
  },
  {
   "cell_type": "markdown",
   "metadata": {},
   "source": [
    "#### Build the final datasets"
   ]
  },
  {
   "cell_type": "code",
   "execution_count": 91,
   "metadata": {},
   "outputs": [],
   "source": [
    "first_sentences = first_sentences.rename(columns={\"uttr\":\"first_sentence\"})\n",
    "second_sentences = second_sentences.rename(columns={\"uttr\":\"second_sentence\"})\n",
    "wrong_sentences = wrong_sentences.rename(columns={\"uttr\":\"second_sentence\"})"
   ]
  },
  {
   "cell_type": "code",
   "execution_count": 100,
   "metadata": {},
   "outputs": [
    {
     "data": {
      "text/html": [
       "<div>\n",
       "<style scoped>\n",
       "    .dataframe tbody tr th:only-of-type {\n",
       "        vertical-align: middle;\n",
       "    }\n",
       "\n",
       "    .dataframe tbody tr th {\n",
       "        vertical-align: top;\n",
       "    }\n",
       "\n",
       "    .dataframe thead th {\n",
       "        text-align: right;\n",
       "    }\n",
       "</style>\n",
       "<table border=\"1\" class=\"dataframe\">\n",
       "  <thead>\n",
       "    <tr style=\"text-align: right;\">\n",
       "      <th></th>\n",
       "      <th>dialogue_id</th>\n",
       "      <th>first_sentence</th>\n",
       "    </tr>\n",
       "  </thead>\n",
       "  <tbody>\n",
       "    <tr>\n",
       "      <th>0</th>\n",
       "      <td>76</td>\n",
       "      <td>Granny . Don 't tell anyone . Keep it . That '...</td>\n",
       "    </tr>\n",
       "    <tr>\n",
       "      <th>1</th>\n",
       "      <td>200</td>\n",
       "      <td>How about Oshin ? Oshin .</td>\n",
       "    </tr>\n",
       "    <tr>\n",
       "      <th>2</th>\n",
       "      <td>217</td>\n",
       "      <td>Your medicine . Open your mouth . Granny ...</td>\n",
       "    </tr>\n",
       "    <tr>\n",
       "      <th>3</th>\n",
       "      <td>355</td>\n",
       "      <td>Sir , I 'd like some private moment with my mo...</td>\n",
       "    </tr>\n",
       "    <tr>\n",
       "      <th>4</th>\n",
       "      <td>379</td>\n",
       "      <td>What the hell ? No one 's here . Dammit ! Chie...</td>\n",
       "    </tr>\n",
       "  </tbody>\n",
       "</table>\n",
       "</div>"
      ],
      "text/plain": [
       "   dialogue_id                                     first_sentence\n",
       "0           76  Granny . Don 't tell anyone . Keep it . That '...\n",
       "1          200                          How about Oshin ? Oshin .\n",
       "2          217       Your medicine . Open your mouth . Granny ...\n",
       "3          355  Sir , I 'd like some private moment with my mo...\n",
       "4          379  What the hell ? No one 's here . Dammit ! Chie..."
      ]
     },
     "execution_count": 100,
     "metadata": {},
     "output_type": "execute_result"
    }
   ],
   "source": [
    "first_sentences.head()"
   ]
  },
  {
   "cell_type": "code",
   "execution_count": 93,
   "metadata": {},
   "outputs": [
    {
     "data": {
      "text/html": [
       "<div>\n",
       "<style scoped>\n",
       "    .dataframe tbody tr th:only-of-type {\n",
       "        vertical-align: middle;\n",
       "    }\n",
       "\n",
       "    .dataframe tbody tr th {\n",
       "        vertical-align: top;\n",
       "    }\n",
       "\n",
       "    .dataframe thead th {\n",
       "        text-align: right;\n",
       "    }\n",
       "</style>\n",
       "<table border=\"1\" class=\"dataframe\">\n",
       "  <thead>\n",
       "    <tr style=\"text-align: right;\">\n",
       "      <th></th>\n",
       "      <th>dialogue_id</th>\n",
       "      <th>second_sentence</th>\n",
       "    </tr>\n",
       "  </thead>\n",
       "  <tbody>\n",
       "    <tr>\n",
       "      <th>0</th>\n",
       "      <td>76</td>\n",
       "      <td>Granny , thank you so much . Hey ! She 's ready .</td>\n",
       "    </tr>\n",
       "    <tr>\n",
       "      <th>1</th>\n",
       "      <td>200</td>\n",
       "      <td>Thank you , ma 'am !</td>\n",
       "    </tr>\n",
       "    <tr>\n",
       "      <th>2</th>\n",
       "      <td>217</td>\n",
       "      <td>Don 't spill it .</td>\n",
       "    </tr>\n",
       "    <tr>\n",
       "      <th>3</th>\n",
       "      <td>355</td>\n",
       "      <td>Okay . Until midnight . Thank you .</td>\n",
       "    </tr>\n",
       "    <tr>\n",
       "      <th>4</th>\n",
       "      <td>379</td>\n",
       "      <td>So he did live here . Maybe he got tipped off ...</td>\n",
       "    </tr>\n",
       "  </tbody>\n",
       "</table>\n",
       "</div>"
      ],
      "text/plain": [
       "   dialogue_id                                    second_sentence\n",
       "0           76  Granny , thank you so much . Hey ! She 's ready .\n",
       "1          200                               Thank you , ma 'am !\n",
       "2          217                                  Don 't spill it .\n",
       "3          355                Okay . Until midnight . Thank you .\n",
       "4          379  So he did live here . Maybe he got tipped off ..."
      ]
     },
     "execution_count": 93,
     "metadata": {},
     "output_type": "execute_result"
    }
   ],
   "source": [
    "second_sentences.head()"
   ]
  },
  {
   "cell_type": "code",
   "execution_count": 131,
   "metadata": {},
   "outputs": [],
   "source": [
    "right_df = pd.concat([first_sentences.set_index('dialogue_id'), second_sentences.set_index('dialogue_id')],axis=1)\n",
    "right_df['correlated']=1"
   ]
  },
  {
   "cell_type": "code",
   "execution_count": 132,
   "metadata": {},
   "outputs": [
    {
     "data": {
      "text/html": [
       "<div>\n",
       "<style scoped>\n",
       "    .dataframe tbody tr th:only-of-type {\n",
       "        vertical-align: middle;\n",
       "    }\n",
       "\n",
       "    .dataframe tbody tr th {\n",
       "        vertical-align: top;\n",
       "    }\n",
       "\n",
       "    .dataframe thead th {\n",
       "        text-align: right;\n",
       "    }\n",
       "</style>\n",
       "<table border=\"1\" class=\"dataframe\">\n",
       "  <thead>\n",
       "    <tr style=\"text-align: right;\">\n",
       "      <th></th>\n",
       "      <th>first_sentence</th>\n",
       "      <th>second_sentence</th>\n",
       "      <th>correlated</th>\n",
       "    </tr>\n",
       "    <tr>\n",
       "      <th>dialogue_id</th>\n",
       "      <th></th>\n",
       "      <th></th>\n",
       "      <th></th>\n",
       "    </tr>\n",
       "  </thead>\n",
       "  <tbody>\n",
       "    <tr>\n",
       "      <th>76</th>\n",
       "      <td>Granny . Don 't tell anyone . Keep it . That '...</td>\n",
       "      <td>Granny , thank you so much . Hey ! She 's ready .</td>\n",
       "      <td>1</td>\n",
       "    </tr>\n",
       "    <tr>\n",
       "      <th>200</th>\n",
       "      <td>How about Oshin ? Oshin .</td>\n",
       "      <td>Thank you , ma 'am !</td>\n",
       "      <td>1</td>\n",
       "    </tr>\n",
       "    <tr>\n",
       "      <th>217</th>\n",
       "      <td>Your medicine . Open your mouth . Granny ...</td>\n",
       "      <td>Don 't spill it .</td>\n",
       "      <td>1</td>\n",
       "    </tr>\n",
       "    <tr>\n",
       "      <th>355</th>\n",
       "      <td>Sir , I 'd like some private moment with my mo...</td>\n",
       "      <td>Okay . Until midnight . Thank you .</td>\n",
       "      <td>1</td>\n",
       "    </tr>\n",
       "    <tr>\n",
       "      <th>379</th>\n",
       "      <td>What the hell ? No one 's here . Dammit ! Chie...</td>\n",
       "      <td>So he did live here . Maybe he got tipped off ...</td>\n",
       "      <td>1</td>\n",
       "    </tr>\n",
       "  </tbody>\n",
       "</table>\n",
       "</div>"
      ],
      "text/plain": [
       "                                                first_sentence  \\\n",
       "dialogue_id                                                      \n",
       "76           Granny . Don 't tell anyone . Keep it . That '...   \n",
       "200                                  How about Oshin ? Oshin .   \n",
       "217               Your medicine . Open your mouth . Granny ...   \n",
       "355          Sir , I 'd like some private moment with my mo...   \n",
       "379          What the hell ? No one 's here . Dammit ! Chie...   \n",
       "\n",
       "                                               second_sentence  correlated  \n",
       "dialogue_id                                                                 \n",
       "76           Granny , thank you so much . Hey ! She 's ready .           1  \n",
       "200                                       Thank you , ma 'am !           1  \n",
       "217                                          Don 't spill it .           1  \n",
       "355                        Okay . Until midnight . Thank you .           1  \n",
       "379          So he did live here . Maybe he got tipped off ...           1  "
      ]
     },
     "execution_count": 132,
     "metadata": {},
     "output_type": "execute_result"
    }
   ],
   "source": [
    "right_df.head()"
   ]
  },
  {
   "cell_type": "code",
   "execution_count": 128,
   "metadata": {},
   "outputs": [],
   "source": [
    "wrong_df = pd.concat([first_sentences, wrong_sentences],axis=1)[['first_sentence','second_sentence']]\n",
    "wrong_df['correlated']=0"
   ]
  },
  {
   "cell_type": "code",
   "execution_count": 130,
   "metadata": {},
   "outputs": [
    {
     "data": {
      "text/html": [
       "<div>\n",
       "<style scoped>\n",
       "    .dataframe tbody tr th:only-of-type {\n",
       "        vertical-align: middle;\n",
       "    }\n",
       "\n",
       "    .dataframe tbody tr th {\n",
       "        vertical-align: top;\n",
       "    }\n",
       "\n",
       "    .dataframe thead th {\n",
       "        text-align: right;\n",
       "    }\n",
       "</style>\n",
       "<table border=\"1\" class=\"dataframe\">\n",
       "  <thead>\n",
       "    <tr style=\"text-align: right;\">\n",
       "      <th></th>\n",
       "      <th>first_sentence</th>\n",
       "      <th>second_sentence</th>\n",
       "      <th>correlated</th>\n",
       "    </tr>\n",
       "  </thead>\n",
       "  <tbody>\n",
       "    <tr>\n",
       "      <th>0</th>\n",
       "      <td>Granny . Don 't tell anyone . Keep it . That '...</td>\n",
       "      <td>You moron ! What fool washes diapers by the we...</td>\n",
       "      <td>0</td>\n",
       "    </tr>\n",
       "    <tr>\n",
       "      <th>1</th>\n",
       "      <td>How about Oshin ? Oshin .</td>\n",
       "      <td>You useless fool !</td>\n",
       "      <td>0</td>\n",
       "    </tr>\n",
       "    <tr>\n",
       "      <th>2</th>\n",
       "      <td>Your medicine . Open your mouth . Granny ...</td>\n",
       "      <td>How dare you sleep !</td>\n",
       "      <td>0</td>\n",
       "    </tr>\n",
       "    <tr>\n",
       "      <th>3</th>\n",
       "      <td>Sir , I 'd like some private moment with my mo...</td>\n",
       "      <td>Up ! Go and clean the house .</td>\n",
       "      <td>0</td>\n",
       "    </tr>\n",
       "    <tr>\n",
       "      <th>4</th>\n",
       "      <td>What the hell ? No one 's here . Dammit ! Chie...</td>\n",
       "      <td>Clean the kitchen .</td>\n",
       "      <td>0</td>\n",
       "    </tr>\n",
       "    <tr>\n",
       "      <th>...</th>\n",
       "      <td>...</td>\n",
       "      <td>...</td>\n",
       "      <td>...</td>\n",
       "    </tr>\n",
       "    <tr>\n",
       "      <th>162094</th>\n",
       "      <td>There 's another . It 's not happy , exactly ....</td>\n",
       "      <td>You like games ? You know what you are ? A bit...</td>\n",
       "      <td>0</td>\n",
       "    </tr>\n",
       "    <tr>\n",
       "      <th>162095</th>\n",
       "      <td>Minister , I really think I should sign as wel...</td>\n",
       "      <td>Hands off ! Ah , shut up , Michel .</td>\n",
       "      <td>0</td>\n",
       "    </tr>\n",
       "    <tr>\n",
       "      <th>162096</th>\n",
       "      <td>Father , it 's God 's work . No , it is this w...</td>\n",
       "      <td>If you need me I 'm always here for you .</td>\n",
       "      <td>0</td>\n",
       "    </tr>\n",
       "    <tr>\n",
       "      <th>162097</th>\n",
       "      <td>Trying to force a nun back to the convent when...</td>\n",
       "      <td>My love .</td>\n",
       "      <td>0</td>\n",
       "    </tr>\n",
       "    <tr>\n",
       "      <th>162098</th>\n",
       "      <td>Well .. .. this is just the way it was suppose...</td>\n",
       "      <td>A compass !</td>\n",
       "      <td>0</td>\n",
       "    </tr>\n",
       "  </tbody>\n",
       "</table>\n",
       "<p>162099 rows × 3 columns</p>\n",
       "</div>"
      ],
      "text/plain": [
       "                                           first_sentence  \\\n",
       "0       Granny . Don 't tell anyone . Keep it . That '...   \n",
       "1                               How about Oshin ? Oshin .   \n",
       "2            Your medicine . Open your mouth . Granny ...   \n",
       "3       Sir , I 'd like some private moment with my mo...   \n",
       "4       What the hell ? No one 's here . Dammit ! Chie...   \n",
       "...                                                   ...   \n",
       "162094  There 's another . It 's not happy , exactly ....   \n",
       "162095  Minister , I really think I should sign as wel...   \n",
       "162096  Father , it 's God 's work . No , it is this w...   \n",
       "162097  Trying to force a nun back to the convent when...   \n",
       "162098  Well .. .. this is just the way it was suppose...   \n",
       "\n",
       "                                          second_sentence  correlated  \n",
       "0       You moron ! What fool washes diapers by the we...           0  \n",
       "1                                      You useless fool !           0  \n",
       "2                                    How dare you sleep !           0  \n",
       "3                           Up ! Go and clean the house .           0  \n",
       "4                                     Clean the kitchen .           0  \n",
       "...                                                   ...         ...  \n",
       "162094  You like games ? You know what you are ? A bit...           0  \n",
       "162095                Hands off ! Ah , shut up , Michel .           0  \n",
       "162096          If you need me I 'm always here for you .           0  \n",
       "162097                                          My love .           0  \n",
       "162098                                        A compass !           0  \n",
       "\n",
       "[162099 rows x 3 columns]"
      ]
     },
     "execution_count": 130,
     "metadata": {},
     "output_type": "execute_result"
    }
   ],
   "source": [
    "wrong_df"
   ]
  },
  {
   "cell_type": "markdown",
   "metadata": {},
   "source": [
    "Since we have a right version and a wrong version for each 'first sentence' in the dataset, if we shuffled them and random splitted in train and test, we could have data leakage because we could have some 'first sentences' in both sets and the model would be tested on data that it has already partially seen.\n",
    "To solve this problem we are going to produce a train and a test set, where no 'first sentence' is in both sets."
   ]
  },
  {
   "cell_type": "code",
   "execution_count": 148,
   "metadata": {},
   "outputs": [],
   "source": [
    "test_percentage = 0.2\n",
    "train_percentage = 1 - test_percentage\n",
    "full_size = len(right_df)"
   ]
  },
  {
   "cell_type": "code",
   "execution_count": 152,
   "metadata": {},
   "outputs": [],
   "source": [
    "right_df_train = right_df.iloc[:round(train_percentage*full_size)]\n",
    "right_df_test = right_df.iloc[round(train_percentage*full_size):]"
   ]
  },
  {
   "cell_type": "code",
   "execution_count": 157,
   "metadata": {},
   "outputs": [],
   "source": [
    "wrong_df_train = wrong_df.iloc[:round(train_percentage*full_size)]\n",
    "wrong_df_test = wrong_df.iloc[round(train_percentage*full_size):]"
   ]
  },
  {
   "cell_type": "code",
   "execution_count": 160,
   "metadata": {},
   "outputs": [],
   "source": [
    "nsp_df_train = pd.concat([right_df_train,wrong_df_train])\n",
    "nsp_df_test = pd.concat([right_df_test,wrong_df_test])"
   ]
  },
  {
   "cell_type": "markdown",
   "metadata": {
    "id": "H7Nqrg7kPIwm"
   },
   "source": [
    "#### Download the Resulting Datasets"
   ]
  },
  {
   "cell_type": "code",
   "execution_count": 161,
   "metadata": {
    "colab": {
     "base_uri": "https://localhost:8080/",
     "height": 34
    },
    "executionInfo": {
     "elapsed": 1089,
     "status": "ok",
     "timestamp": 1683933399371,
     "user": {
      "displayName": "Simone Callegarin",
      "userId": "07493954283969006720"
     },
     "user_tz": -120
    },
    "id": "nFMpvQcmPMgh",
    "outputId": "3d56233d-7710-4b11-a1a0-d4b9dc05d5ea",
    "tags": []
   },
   "outputs": [],
   "source": [
    "nsp_df_train.to_csv('nsp_df_train.csv', index=False)\n",
    "nsp_df_test.to_csv('nsp_df_test.csv', index=False)"
   ]
  }
 ],
 "metadata": {
  "colab": {
   "authorship_tag": "ABX9TyOAoOzIsTXb5GTVJl3Bb8Ch",
   "provenance": []
  },
  "kernelspec": {
   "display_name": "Python 3 (ipykernel)",
   "language": "python",
   "name": "python3"
  },
  "language_info": {
   "codemirror_mode": {
    "name": "ipython",
    "version": 3
   },
   "file_extension": ".py",
   "mimetype": "text/x-python",
   "name": "python",
   "nbconvert_exporter": "python",
   "pygments_lexer": "ipython3",
   "version": "3.9.16"
  }
 },
 "nbformat": 4,
 "nbformat_minor": 4
}
